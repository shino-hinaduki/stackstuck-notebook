{
 "cells": [
  {
   "cell_type": "code",
   "execution_count": 4,
   "id": "69f9ad58-70ea-46cd-997a-de5d55207a3c",
   "metadata": {},
   "outputs": [
    {
     "name": "stdout",
     "output_type": "stream",
     "text": [
      "hello node.js\n"
     ]
    }
   ],
   "source": [
    "console.log('hello node.js');"
   ]
  },
  {
   "cell_type": "code",
   "execution_count": 5,
   "id": "5aa5109f-57ec-472c-a563-f3749eb06d22",
   "metadata": {},
   "outputs": [],
   "source": [
    "const mineflayer = require('mineflayer');"
   ]
  },
  {
   "cell_type": "code",
   "execution_count": 6,
   "id": "772cdbb2-f811-4c64-ad89-0dcc0ffde717",
   "metadata": {
    "tags": []
   },
   "outputs": [
    {
     "data": {
      "text/plain": [
       "EventEmitter {\n",
       "  _events: [Object: null prototype] {\n",
       "    error: [Function (anonymous)],\n",
       "    inject_allowed: [Function: bound onceWrapper] {\n",
       "      listener: [Function: onInjectAllowed]\n",
       "    },\n",
       "    spawn: [Function: bound onceWrapper] { listener: [Function (anonymous)] }\n",
       "  },\n",
       "  _eventsCount: 3,\n",
       "  _maxListeners: undefined,\n",
       "  _client: Client {\n",
       "    _events: [Object: null prototype] {\n",
       "      connect: [Array],\n",
       "      keep_alive: [Function: onKeepAlive],\n",
       "      end: [Array],\n",
       "      encryption_begin: [Function],\n",
       "      success: [Function],\n",
       "      compress: [Function],\n",
       "      set_compression: [Function: onCompressionRequest],\n",
       "      custom_payload: [Function: onCustomPayload],\n",
       "      login_plugin_request: [Function: onLoginPluginRequest],\n",
       "      disconnect: [Function (anonymous)],\n",
       "      error: [Function (anonymous)],\n",
       "      connect_allowed: [Function]\n",
       "    },\n",
       "    _eventsCount: 12,\n",
       "    _maxListeners: undefined,\n",
       "    customPackets: undefined,\n",
       "    version: '1.17.1',\n",
       "    isServer: false,\n",
       "    splitter: Splitter {\n",
       "      _readableState: [ReadableState],\n",
       "      readable: true,\n",
       "      _events: [Object: null prototype],\n",
       "      _eventsCount: 3,\n",
       "      _maxListeners: undefined,\n",
       "      _writableState: [WritableState],\n",
       "      writable: true,\n",
       "      allowHalfOpen: true,\n",
       "      _transformState: [Object],\n",
       "      buffer: <Buffer >,\n",
       "      recognizeLegacyPing: true,\n",
       "      [Symbol(kCapture)]: false\n",
       "    },\n",
       "    packetsToParse: {},\n",
       "    compressor: null,\n",
       "    framer: Framer {\n",
       "      _readableState: [ReadableState],\n",
       "      readable: true,\n",
       "      _events: [Object: null prototype],\n",
       "      _eventsCount: 6,\n",
       "      _maxListeners: undefined,\n",
       "      _writableState: [WritableState],\n",
       "      writable: true,\n",
       "      allowHalfOpen: true,\n",
       "      _transformState: [Object],\n",
       "      [Symbol(kCapture)]: false\n",
       "    },\n",
       "    cipher: null,\n",
       "    decipher: null,\n",
       "    decompressor: null,\n",
       "    ended: true,\n",
       "    latency: 0,\n",
       "    hideErrors: true,\n",
       "    closeTimer: null,\n",
       "    protocolState: 'handshaking',\n",
       "    serializer: Serializer {\n",
       "      _readableState: [ReadableState],\n",
       "      readable: true,\n",
       "      _events: [Object: null prototype],\n",
       "      _eventsCount: 4,\n",
       "      _maxListeners: undefined,\n",
       "      _writableState: [WritableState],\n",
       "      writable: true,\n",
       "      allowHalfOpen: true,\n",
       "      _transformState: [Object],\n",
       "      proto: [CompiledProtodef],\n",
       "      mainType: 'packet',\n",
       "      queue: <Buffer >,\n",
       "      [Symbol(kCapture)]: false\n",
       "    },\n",
       "    deserializer: FullPacketParser {\n",
       "      _readableState: [ReadableState],\n",
       "      readable: true,\n",
       "      _events: [Object: null prototype],\n",
       "      _eventsCount: 7,\n",
       "      _maxListeners: undefined,\n",
       "      _writableState: [WritableState],\n",
       "      writable: true,\n",
       "      allowHalfOpen: true,\n",
       "      _transformState: [Object],\n",
       "      proto: [CompiledProtodef],\n",
       "      mainType: 'packet',\n",
       "      noErrorLogging: true,\n",
       "      [Symbol(kCapture)]: false\n",
       "    },\n",
       "    wait_connect: true,\n",
       "    registerChannel: [Function: registerChannel],\n",
       "    unregisterChannel: [Function: unregisterChannel],\n",
       "    writeChannel: [Function: writeChannel],\n",
       "    [Symbol(kCapture)]: false\n",
       "  },\n",
       "  end: [Function (anonymous)],\n",
       "  loadPlugin: [Function: loadPlugin],\n",
       "  loadPlugins: [Function: loadPlugins],\n",
       "  hasPlugin: [Function: hasPlugin],\n",
       "  [Symbol(kCapture)]: false\n",
       "}"
      ]
     },
     "execution_count": 6,
     "metadata": {},
     "output_type": "execute_result"
    }
   ],
   "source": [
    "// login test\n",
    "const options = {\n",
    "    host: 'mcserver',\n",
    "    port: 25565,\n",
    "    username: 'stackstuck',\n",
    "    // password: '', // TODO: Connecting to an online server\n",
    "};\n",
    "const bot = mineflayer.createBot(options);\n",
    "bot.once('spawn', () => {\n",
    "    bot.chat('hello! I\\'m stackstuck bot!');\n",
    "});"
   ]
  },
  {
   "cell_type": "code",
   "execution_count": null,
   "id": "216464d3-1bc5-4f62-ae2d-d82c4a9a5bdc",
   "metadata": {},
   "outputs": [],
   "source": []
  }
 ],
 "metadata": {
  "kernelspec": {
   "display_name": "Javascript (Node.js)",
   "language": "javascript",
   "name": "javascript"
  },
  "language_info": {
   "file_extension": ".js",
   "mimetype": "application/javascript",
   "name": "javascript",
   "version": "16.2.0"
  }
 },
 "nbformat": 4,
 "nbformat_minor": 5
}
