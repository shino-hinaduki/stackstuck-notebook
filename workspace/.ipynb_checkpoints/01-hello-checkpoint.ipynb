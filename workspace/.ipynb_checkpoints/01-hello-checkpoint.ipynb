{
 "cells": [
  {
   "cell_type": "code",
   "execution_count": 3,
   "id": "5aa5109f-57ec-472c-a563-f3749eb06d22",
   "metadata": {},
   "outputs": [],
   "source": [
    "const mineflayer = require('mineflayer');\n",
    "const { mineflayer: mineflayerViewer } = require('prismarine-viewer');\n",
    "const {\n",
    "    pathfinder,\n",
    "    Movements,\n",
    "    goals: { GoalNear },\n",
    "} = require('mineflayer-pathfinder');"
   ]
  },
  {
   "cell_type": "code",
   "execution_count": null,
   "id": "772cdbb2-f811-4c64-ad89-0dcc0ffde717",
   "metadata": {
    "tags": []
   },
   "outputs": [],
   "source": [
    "// login test\n",
    "var options = {\n",
    "    host: 'mcserver',\n",
    "    port: 25565,\n",
    "    username: 'stackstuck',\n",
    "    // password: '', // TODO: Connecting to an online server\n",
    "};\n",
    "var bot = mineflayer.createBot(options);\n",
    "bot.loadPlugin(pathfinder);\n",
    "\n",
    "bot.once('spawn', () => {\n",
    "    mineflayerViewer(bot, { port: 8880, firstPerson: false });\n",
    "    bot.chat('hello! I\\'m stackstuck bot!');\n",
    "});\n",
    "\n",
    "bot.on('chat', (username, message) => {\n",
    "    if (username === bot.username) return;\n",
    "    if (message !== 'come') {\n",
    "        bot.chat(message);\n",
    "        return;\n",
    "    }\n",
    "\n",
    "    const mcData = require('minecraft-data')(bot.version);\n",
    "    const defaultMove = new Movements(bot, mcData);\n",
    "    const target = bot.players[username]?.entity;\n",
    "    const { x: playerX, y: playerY, z: playerZ } = target.position;\n",
    "\n",
    "    bot.pathfinder.setMovements(defaultMove);\n",
    "    bot.pathfinder.setGoal(new GoalNear(playerX, playerY, playerZ, 1));\n",
    "    bot.chat(`go to ${playerX}, ${playerY}, ${playerZ}`);\n",
    "});\n",
    "\n",
    "bot.on('kicked', (x) => {\n",
    "    console.log(x);\n",
    "});\n",
    "bot.on('error', (x) => {\n",
    "    console.log(x);\n",
    "});"
   ]
  },
  {
   "cell_type": "code",
   "execution_count": null,
   "id": "216464d3-1bc5-4f62-ae2d-d82c4a9a5bdc",
   "metadata": {},
   "outputs": [],
   "source": [
    "#exit \n",
    "bot.end()"
   ]
  }
 ],
 "metadata": {
  "kernelspec": {
   "display_name": "Javascript (Node.js)",
   "language": "javascript",
   "name": "javascript"
  },
  "language_info": {
   "file_extension": ".js",
   "mimetype": "application/javascript",
   "name": "javascript",
   "version": "16.2.0"
  }
 },
 "nbformat": 4,
 "nbformat_minor": 5
}
