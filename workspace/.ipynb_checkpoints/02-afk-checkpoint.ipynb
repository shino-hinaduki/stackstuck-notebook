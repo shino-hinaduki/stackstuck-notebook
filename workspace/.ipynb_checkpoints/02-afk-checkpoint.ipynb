{
 "cells": [
  {
   "cell_type": "code",
   "execution_count": 1,
   "id": "5aa5109f-57ec-472c-a563-f3749eb06d22",
   "metadata": {},
   "outputs": [],
   "source": [
    "const mineflayer = require('mineflayer');"
   ]
  },
  {
   "cell_type": "code",
   "execution_count": 2,
   "id": "772cdbb2-f811-4c64-ad89-0dcc0ffde717",
   "metadata": {
    "collapsed": true,
    "jupyter": {
     "outputs_hidden": true
    },
    "tags": []
   },
   "outputs": [
    {
     "name": "stdout",
     "output_type": "stream",
     "text": [
      "loginBot(retryCount=1)\n",
      "{\"translate\":\"multiplayer.disconnect.kicked\"}\n",
      "on end\n",
      "loginBot(retryCount=2)\n",
      "{\"translate\":\"multiplayer.disconnect.kicked\"}\n",
      "on end\n",
      "loginBot(retryCount=3)\n",
      "{\"translate\":\"multiplayer.disconnect.kicked\"}\n",
      "on end\n",
      "loginBot(retryCount=4)\n",
      "{\"translate\":\"multiplayer.disconnect.kicked\"}\n",
      "on end\n",
      "loginBot(retryCount=5)\n",
      "{\"translate\":\"multiplayer.disconnect.kicked\"}\n",
      "on end\n",
      "loginBot(retryCount=6)\n",
      "{\"translate\":\"multiplayer.disconnect.kicked\"}\n",
      "on end\n",
      "loginBot(retryCount=7)\n",
      "{\"translate\":\"multiplayer.disconnect.kicked\"}\n",
      "on end\n",
      "loginBot(retryCount=8)\n",
      "{\"translate\":\"multiplayer.disconnect.kicked\"}\n",
      "on end\n",
      "loginBot(retryCount=9)\n",
      "{\"translate\":\"multiplayer.disconnect.kicked\"}\n",
      "on end\n",
      "loginBot(retryCount=10)\n",
      "{\"translate\":\"multiplayer.disconnect.kicked\"}\n",
      "on end\n",
      "loginWithRetry() exit.\n",
      "exit\n"
     ]
    }
   ],
   "source": [
    "// login設定\n",
    "var options = {\n",
    "    host: 'mcserver',\n",
    "    port: 25565,\n",
    "    username: 'stackstuck',\n",
    "};\n",
    "\n",
    "// 強制終了する場合はtrue\n",
    "var forceExit = false;\n",
    "// Errorが連発した場合のRetry数。0を指定した場合は無制限\n",
    "var errorRetryCount = 10;\n",
    "\n",
    "// kickされたり切断された場合に再度呼び出す\n",
    "async function loginWithRetry() {\n",
    "    // 打ち切り条件\n",
    "    let retryCount = 0;\n",
    "    while (!forceExit && ((retryCount++ < errorRetryCount) || (errorRetryCount == 0))) {\n",
    "        console.log(`loginBot(retryCount=${retryCount})`)\n",
    "        await loginBot();\n",
    "    }\n",
    "    console.log('loginWithRetry() exit.');\n",
    "}\n",
    "    \n",
    "// ログインして切断されるまで待機する\n",
    "async function loginBot() {\n",
    "    var bot = mineflayer.createBot(options);\n",
    "    bot.once('spawn', () => {\n",
    "        bot.chat('hello! I\\'m stackstuck afk bot.');\n",
    "    });\n",
    "    bot.once('kicked', (e) => {\n",
    "        console.log(e);\n",
    "    });\n",
    "    bot.once('error', (e) => {\n",
    "        console.error(e);\n",
    "    });\n",
    "    // 切断されるまで待つ\n",
    "    await new Promise(resolve => {\n",
    "        bot.on('end', () => {\n",
    "            resolve()\n",
    "        });\n",
    "    });\n",
    "}\n",
    "\n",
    "// 初回起動\n",
    "loginWithRetry().then(() => {\n",
    "    console.log('exit')\n",
    "}).catch(err => {\n",
    "    console.error(err);\n",
    "});"
   ]
  },
  {
   "cell_type": "code",
   "execution_count": null,
   "id": "e5e1e4cb-b43e-465c-8a48-7298eb0a2000",
   "metadata": {},
   "outputs": [],
   "source": [
    "// 次Kicjされたら終了\n",
    "forceExit = true;"
   ]
  }
 ],
 "metadata": {
  "kernelspec": {
   "display_name": "Javascript (Node.js)",
   "language": "javascript",
   "name": "javascript"
  },
  "language_info": {
   "file_extension": ".js",
   "mimetype": "application/javascript",
   "name": "javascript",
   "version": "16.2.0"
  }
 },
 "nbformat": 4,
 "nbformat_minor": 5
}
