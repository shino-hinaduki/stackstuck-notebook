{
 "cells": [
  {
   "cell_type": "code",
   "execution_count": 1,
   "id": "69f9ad58-70ea-46cd-997a-de5d55207a3c",
   "metadata": {},
   "outputs": [
    {
     "name": "stdout",
     "output_type": "stream",
     "text": [
      "hello node.js\n"
     ]
    }
   ],
   "source": [
    "console.log('hello node.js');"
   ]
  }
 ],
 "metadata": {
  "kernelspec": {
   "display_name": "Javascript (Node.js)",
   "language": "javascript",
   "name": "javascript"
  },
  "language_info": {
   "file_extension": ".js",
   "mimetype": "application/javascript",
   "name": "javascript",
   "version": "16.2.0"
  }
 },
 "nbformat": 4,
 "nbformat_minor": 5
}
